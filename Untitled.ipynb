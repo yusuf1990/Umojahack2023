{
 "cells": [
  {
   "cell_type": "code",
   "execution_count": 180,
   "metadata": {},
   "outputs": [],
   "source": [
    "import numpy as np\n",
    "import pandas as pd\n",
    "\n",
    "from lightgbm import LGBMClassifier\n",
    "from sklearn.preprocessing import PolynomialFeatures,StandardScaler\n",
    "from sklearn.model_selection import KFold,StratifiedKFold ,GroupKFold\n",
    "from sklearn.metrics import mean_squared_error,f1_score\n",
    "import lightgbm as lgb\n",
    "import warnings\n",
    "warnings.filterwarnings('ignore')\n",
    "from xgboost import XGBClassifier\n",
    "train=pd.read_csv('Train.csv')\n",
    "test=pd.read_csv('Test.csv')\n",
    "from sklearn.preprocessing import LabelEncoder\n",
    "train['win']=1\n",
    "test['win']=0\n",
    "data=pd.concat([train,test]).reset_index(drop=True)\n",
    "policy_cat =[]\n",
    "for col in policy_cat:\n",
    "  lr = LabelEncoder()\n",
    "  data[col] = lr.fit_transform(data[col])\n",
    "dummy_columns =[]\n",
    "cols=[]\n",
    "for col in cols:\n",
    "    data[col]=data[col].map(data.groupby(col)['Label'].mean())\n",
    "#data = pd.concat([data,pd.get_dummies(data[dummy_columns])],axis=1)\n",
    "#data.drop(dummy_columns, axis=1, inplace=True)\n",
    "\n",
    "\n",
    "data['Number of subprocesses']=np.log1p(data['Number of subprocesses'])\n",
    "\n",
    "\n",
    "\n",
    "train=data[data['win']==1]\n",
    "#train=train[train['Bytes Sent/sent']<=20000]\n",
    "\n",
    "train=train[train['Time on processor']!=0.069438]\n",
    "train=train[train['Time on processor']!=0.555581]\n",
    "train=train[train['Time on processor']!=0.588592]\n",
    "train=train[train['Time on processor']!=2.000000]\n",
    "\n",
    "test=data[data['win']==0]\n",
    "feature=[c for c in train.columns if c not in ['kfold','win','ID','Label','col_Time on processor']]"
   ]
  },
  {
   "cell_type": "code",
   "execution_count": 181,
   "metadata": {},
   "outputs": [
    {
     "name": "stdout",
     "output_type": "stream",
     "text": [
      " ID +8902\n",
      " I/O Data Operations +6000\n",
      "  I/O Data Bytes +5976\n",
      " Number of subprocesses +32\n",
      " Time on processor +3700\n",
      " Disk Reading/sec +7392\n",
      " Disc Writing/sec +2141\n",
      " Bytes Sent/sent +7392\n",
      " Received Bytes (HTTP) +7392\n",
      " Network packets sent +7390\n",
      " Network packets received +7389\n",
      " Pages Read/sec +4253\n",
      " Pages Input/sec +26\n",
      " Page Errors/sec +7392\n",
      " Confirmed byte radius +7304\n",
      " Label +2\n",
      " win +1\n"
     ]
    }
   ],
   "source": [
    "cat_col=train.describe(include='object').columns#\n",
    "\n",
    "for i in train.columns:\n",
    "    print(f' {i} +{train[i].nunique()}')"
   ]
  },
  {
   "cell_type": "code",
   "execution_count": 140,
   "metadata": {},
   "outputs": [
    {
     "name": "stdout",
     "output_type": "stream",
     "text": [
      " ID +8902\n",
      " I/O Data Operations +6000\n",
      "  I/O Data Bytes +5976\n",
      " Number of subprocesses +32\n",
      " Time on processor +3700\n",
      " Disk Reading/sec +7392\n",
      " Disc Writing/sec +2141\n",
      " Bytes Sent/sent +7392\n",
      " Received Bytes (HTTP) +7392\n",
      " Network packets sent +7390\n",
      " Network packets received +7389\n",
      " Pages Read/sec +4253\n",
      " Pages Input/sec +26\n",
      " Page Errors/sec +7392\n",
      " Confirmed byte radius +7304\n",
      " Label +2\n",
      " win +1\n"
     ]
    }
   ],
   "source": [
    "cat_col=train.describe(include='object').columns#\n",
    "\n",
    "for i in test.columns:\n",
    "    print(f' {i} +{train[i].nunique()}')"
   ]
  },
  {
   "cell_type": "code",
   "execution_count": 177,
   "metadata": {},
   "outputs": [
    {
     "data": {
      "text/plain": [
       "0.000000    8855\n",
       "0.000630       6\n",
       "0.005302       5\n",
       "0.006446       4\n",
       "2.955622       2\n",
       "0.622123       2\n",
       "0.555586       2\n",
       "1.044410       2\n",
       "1.577969       2\n",
       "0.844335       2\n",
       "0.622157       2\n",
       "1.666501       2\n",
       "0.466796       2\n",
       "0.911329       2\n",
       "1.422239       1\n",
       "1.667658       1\n",
       "0.933335       1\n",
       "0.599948       1\n",
       "2.200027       1\n",
       "0.244378       1\n",
       "1.999323       1\n",
       "0.244374       1\n",
       "0.488981       1\n",
       "1.733327       1\n",
       "0.422336       1\n",
       "2.667046       1\n",
       "Name: Pages Input/sec, dtype: int64"
      ]
     },
     "execution_count": 177,
     "metadata": {},
     "output_type": "execute_result"
    }
   ],
   "source": [
    "train['Pages Input/sec'].value_counts()"
   ]
  },
  {
   "cell_type": "code",
   "execution_count": 183,
   "metadata": {},
   "outputs": [
    {
     "data": {
      "text/plain": [
       "1.0"
      ]
     },
     "execution_count": 183,
     "metadata": {},
     "output_type": "execute_result"
    }
   ],
   "source": [
    "from sklearn.model_selection import train_test_split\n",
    "from sklearn.metrics import f1_score,accuracy_score,roc_auc_score\n",
    "from sklearn.ensemble import BaggingClassifier\n",
    "X=train[feature]\n",
    "y=train.Label\n",
    "X_train, X_test, y_train, y_test = train_test_split(X, y, test_size=0.1, random_state=240)\n",
    "clf=LGBMClassifier(n_estimators=400,scale_pos_weight=3.5,linear_tree=True)#scale_pos_weight=3.5)#,n_estimators=400)\n",
    "\n",
    "clf.fit(X,y)#,eval_set=(X_test,y_test))\n",
    "pred=clf.predict(X_test)\n",
    "from sklearn.metrics import f1_score,accuracy_score,roc_auc_score\n",
    "roc_auc_score(y_test,pred)"
   ]
  },
  {
   "cell_type": "code",
   "execution_count": 184,
   "metadata": {},
   "outputs": [],
   "source": [
    "test['Label']=clf.predict(test[feature])\n",
    "\n",
    "test[['ID','Label']].to_csv('new.csv',index=False)"
   ]
  },
  {
   "cell_type": "code",
   "execution_count": 12,
   "metadata": {},
   "outputs": [],
   "source": [
    "x_train,y_train=X,y\n",
    "x_test=test[feature]\n",
    "model = LGBMClassifier(scale_pos_weight=3.5,linear_tree=True,n_estimators=400)\n",
    "model.fit(x_train,y_train)\n",
    "gb_pred = model.predict(x_test)\n",
    "\n",
    "model= LGBMClassifier(scale_pos_weight=2.7,linear_tree=True,n_estimators=300)\n",
    "model.fit(x_train, y_train)\n",
    "p_pred = model.predict_proba(x_test)\n",
    "\n",
    "xgb_pred = []\n",
    "for pp in p_pred:\n",
    "    if 0.5 < pp[1] < 0.6:\n",
    "        xgb_pred.append(1)\n",
    "    else:\n",
    "        xgb_pred.append(0)\n",
    "\n",
    "        \n",
    "model = LGBMClassifier(linear_tree=True,n_estimators=400,class_weight=({0:1.36,1:2.7}))\n",
    "model.fit(x_train, y_train)\n",
    "rf_pred = model.predict(x_test)\n",
    "\n",
    "blend = []\n",
    "for p in range(len(gb_pred)):\n",
    "    if (gb_pred[p] > 0) | (xgb_pred[p] > 0) | (rf_pred[p] > 0):\n",
    "        blend.append(1)\n",
    "    else:\n",
    "        blend.append(0)\n",
    "\n",
    "submiss = pd.DataFrame({\"ID\": test['ID'],  \"Label\": blend})\n",
    "submiss = submiss[['ID', 'Label']]\n",
    "submiss.to_csv(\"gfinal.csv\", index = False)"
   ]
  },
  {
   "cell_type": "code",
   "execution_count": null,
   "metadata": {},
   "outputs": [],
   "source": []
  },
  {
   "cell_type": "code",
   "execution_count": null,
   "metadata": {},
   "outputs": [],
   "source": [
    "from sklearn.model_selection import train_test_split\n",
    "from sklearn.linear_model import LogisticRegression\n",
    "from sklearn.metrics import f1_score,accuracy_score,roc_auc_score\n",
    "X=train[feature]\n",
    "y=train.Label\n",
    "pf = PolynomialFeatures(degree = 3, include_bias = False, interaction_only = False)\n",
    "feature=[c for c in X.columns if c not in ['kfold','win','ID','Label']]\n",
    "X = pf.fit_transform(X)\n",
    "test22=test.copy()\n",
    "test = pf.transform(test[feature])\n",
    "scaler = StandardScaler()\n",
    "\n",
    "# transform data\n",
    "X = scaler.fit_transform(X)\n",
    "test = scaler.transform(test)\n",
    "X_train, X_test, y_train, y_test = train_test_split(X, y, test_size=0.1, random_state=42)\n",
    "clf=LogisticRegression(class_weight={0:1.36,1:2.7})\n",
    "clf.fit(X,y)#,eval_set=(X_test,y_test))\n",
    "pred=clf.predict(X_test)\n",
    "from sklearn.metrics import f1_score,accuracy_score,roc_auc_score\n",
    "roc_auc_score(y_test,pred)"
   ]
  },
  {
   "cell_type": "code",
   "execution_count": 166,
   "metadata": {},
   "outputs": [],
   "source": [
    "test22['Label']=clf.predict(test)\n",
    "\n",
    "test22[['ID','Label']].to_csv('new.csv',index=False)"
   ]
  },
  {
   "cell_type": "code",
   "execution_count": 163,
   "metadata": {},
   "outputs": [
    {
     "ename": "AttributeError",
     "evalue": "'numpy.ndarray' object has no attribute 'columns'",
     "output_type": "error",
     "traceback": [
      "\u001b[1;31m---------------------------------------------------------------------------\u001b[0m",
      "\u001b[1;31mAttributeError\u001b[0m                            Traceback (most recent call last)",
      "\u001b[1;32m<ipython-input-163-901c1061bf7c>\u001b[0m in \u001b[0;36m<module>\u001b[1;34m\u001b[0m\n\u001b[1;32m----> 1\u001b[1;33m \u001b[0mX\u001b[0m\u001b[1;33m.\u001b[0m\u001b[0mcolumns\u001b[0m\u001b[1;33m\u001b[0m\u001b[1;33m\u001b[0m\u001b[0m\n\u001b[0m",
      "\u001b[1;31mAttributeError\u001b[0m: 'numpy.ndarray' object has no attribute 'columns'"
     ]
    }
   ],
   "source": [
    "X.columns"
   ]
  },
  {
   "cell_type": "code",
   "execution_count": null,
   "metadata": {},
   "outputs": [],
   "source": []
  }
 ],
 "metadata": {
  "kernelspec": {
   "display_name": "Python 3",
   "language": "python",
   "name": "python3"
  },
  "language_info": {
   "codemirror_mode": {
    "name": "ipython",
    "version": 3
   },
   "file_extension": ".py",
   "mimetype": "text/x-python",
   "name": "python",
   "nbconvert_exporter": "python",
   "pygments_lexer": "ipython3",
   "version": "3.8.5"
  }
 },
 "nbformat": 4,
 "nbformat_minor": 4
}
